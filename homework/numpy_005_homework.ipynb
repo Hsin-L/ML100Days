{
 "cells": [
  {
   "cell_type": "code",
   "execution_count": 1,
   "metadata": {},
   "outputs": [],
   "source": [
    "import numpy as np"
   ]
  },
  {
   "cell_type": "code",
   "execution_count": 3,
   "metadata": {},
   "outputs": [],
   "source": [
    "a = english_score = np.array([55,89,76,65,48,70])\n",
    "b = math_score = np.array([60,85,60,68,np.nan,60])\n",
    "c = chinese_score = np.array([65,90,82,72,66,77])"
   ]
  },
  {
   "cell_type": "code",
   "execution_count": 16,
   "metadata": {},
   "outputs": [
    {
     "name": "stdout",
     "output_type": "stream",
     "text": [
      "英文平均: 67.17 英文最大值: 89 英文最小值: 48 英文標準差: 13.43\n",
      "數學平均: 66.6 數學最大值: 85.0 數學最小值: 60.0 數學標準差: 9.71\n",
      "國文平均: 75.33 國文最大值: 90 國文最小值: 65 國文標準差: 8.83\n"
     ]
    }
   ],
   "source": [
    "#1. 請計算各科成績平均、最大值、最小值、標準差，其中數學缺一筆資料可忽略?\n",
    "print(\"英文平均:\", np.round(np.mean(a), decimals=2), \n",
    "     \"英文最大值:\", np.nanmax(a), \n",
    "     \"英文最小值:\", np.nanmin(a), \n",
    "     \"英文標準差:\", np.round(np.std(a), decimals=2))\n",
    "print(\"數學平均:\", np.round(np.nanmean(b), decimals=2), \n",
    "     \"數學最大值:\", np.nanmax(b), \n",
    "     \"數學最小值:\", np.nanmin(b), \n",
    "     \"數學標準差:\", np.round(np.nanstd(b), decimals=2))\n",
    "print(\"國文平均:\", np.round(np.mean(c), decimals=2), \n",
    "     \"國文最大值:\", np.nanmax(c), \n",
    "     \"國文最小值:\", np.nanmin(c), \n",
    "     \"國文標準差:\", np.round(np.std(c), decimals=2))\n",
    "\n"
   ]
  },
  {
   "cell_type": "code",
   "execution_count": 18,
   "metadata": {},
   "outputs": [
    {
     "name": "stdout",
     "output_type": "stream",
     "text": [
      "數學平均: 64.67 數學最大值: 85.0 數學最小值: 55.0 數學標準差: 9.86\n"
     ]
    }
   ],
   "source": [
    "#2. 第五位同學補考數學後成績為55，請計算補考後數學成績平均、最大值、最小值、標準差?\n",
    "b[4] = 55\n",
    "\n",
    "print(\"數學平均:\", np.round(np.nanmean(b), decimals=2), \n",
    "     \"數學最大值:\", np.nanmax(b), \n",
    "     \"數學最小值:\", np.nanmin(b), \n",
    "     \"數學標準差:\", np.round(np.nanstd(b), decimals=2))\n"
   ]
  },
  {
   "cell_type": "code",
   "execution_count": 22,
   "metadata": {},
   "outputs": [
    {
     "name": "stdout",
     "output_type": "stream",
     "text": [
      "英文與國文成績相關係數較高\n"
     ]
    }
   ],
   "source": [
    "#3. 用補考後資料找出與國文成績相關係數最高的學科?\n",
    "ac = np.correlate(a, c)\n",
    "bc = np.correlate(b, c)\n",
    "if ac > bc:\n",
    "    print(\"英文與國文成績相關係數較高\")\n",
    "else:\n",
    "    print(\"數學與國文成績相關係數較高\")\n"
   ]
  }
 ],
 "metadata": {
  "kernelspec": {
   "display_name": "Python 3",
   "language": "python",
   "name": "python3"
  },
  "language_info": {
   "codemirror_mode": {
    "name": "ipython",
    "version": 3
   },
   "file_extension": ".py",
   "mimetype": "text/x-python",
   "name": "python",
   "nbconvert_exporter": "python",
   "pygments_lexer": "ipython3",
   "version": "3.8.5"
  }
 },
 "nbformat": 4,
 "nbformat_minor": 4
}
